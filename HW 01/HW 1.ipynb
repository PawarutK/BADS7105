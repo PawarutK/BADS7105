{
 "cells": [
  {
   "cell_type": "code",
   "execution_count": null,
   "metadata": {
    "colab": {
     "base_uri": "https://localhost:8080/"
    },
    "id": "Wwl4DEXKa8Tw",
    "outputId": "2eec6f01-0420-4345-94ec-9d9be0e1bd6b"
   },
   "outputs": [],
   "source": [
    "import pandas as pd\n",
    "import numpy as np\n",
    "import matplotlib.pyplot as plt\n",
    "import seaborn as sns"
   ]
  },
  {
   "cell_type": "code",
   "execution_count": null,
   "metadata": {
    "id": "88hoKXQxuZDE"
   },
   "outputs": [],
   "source": [
    "import matplotlib as mpl\n",
    "\n",
    "mpl.font_manager.fontManager.addfont('K2D-Light.ttf')\n",
    "mpl.rc('font', family='K2D', size=12, weight=200)"
   ]
  },
  {
   "cell_type": "markdown",
   "metadata": {
    "id": "U3_qDlFvAoHQ"
   },
   "source": [
    "# Load datset"
   ]
  },
  {
   "cell_type": "code",
   "execution_count": null,
   "metadata": {
    "colab": {
     "base_uri": "https://localhost:8080/",
     "height": 752
    },
    "id": "BlnVhP1BmIGW",
    "outputId": "5eb100fd-39dc-4b4b-8585-b48d99eba3f7"
   },
   "outputs": [],
   "source": [
    "src = pd.read_excel('[Raw Data] Customer Behaviors (Responses).xlsx', dtype={'คุณเกิดวันที่เท่าไหร่' : str})\n",
    "print(src.shape)\n",
    "src = src[src.columns[1:]]\n",
    "src.head()"
   ]
  },
  {
   "cell_type": "markdown",
   "metadata": {
    "id": "oxi0OQoaHwgQ"
   },
   "source": [
    "# Data Prep"
   ]
  },
  {
   "cell_type": "code",
   "execution_count": null,
   "metadata": {
    "colab": {
     "base_uri": "https://localhost:8080/",
     "height": 445
    },
    "id": "TUzi0xFM6oKS",
    "outputId": "c02df228-4512-4fb0-cb53-f62703742baf"
   },
   "outputs": [],
   "source": [
    "from datetime import datetime\n",
    "\n",
    "df = src.copy()\n",
    "\n",
    "# rename columns\n",
    "int_cols = [ c.replace('คุณมีความสนใจในสิ่งเหล่านี้มากน้อยเพียงใด','Interest') for c in df.columns[:30] ]\n",
    "con_cols = [ c.replace('คุณบริโภคสิ่งเหล่านี้บ่อยขนาดไหน','Consumption') for c in df.columns[30:60] ]\n",
    "df.columns = int_cols + con_cols + ['interests', 'dob', 'gender']\n",
    "\n",
    "# make answers categorical\n",
    "intr_cattype = pd.CategoricalDtype(categories=['ไม่สนใจอย่างมากที่สุด', 'ไม่สนใจอย่างมาก', 'ไม่สนใจ', \n",
    "                                              'เฉยๆ', 'สนใจ', 'สนใจอย่างมาก', 'สนใจอย่างมากที่สุด'], ordered=True)\n",
    "cons_cattype = pd.CategoricalDtype(categories=['แทบไม่ได้บริโภคเลย', 'หลายเดือนครั้ง', 'เดือนละครั้ง', \n",
    "                                               'เดือนละ 2-3 ครั้ง', 'อาทิตย์ละครั้ง', 'แทบทุกวัน'], ordered=True)\n",
    "\n",
    "for col in df.columns[:30]:\n",
    "    df[col] = df[col].astype(intr_cattype)\n",
    "\n",
    "for col in df.columns[30:60]:\n",
    "    df[col] = df[col].astype(cons_cattype)\n",
    "\n",
    "# gender\n",
    "df['gender'] = df['gender'].map({'หญิง':'F', 'ชาย':'M', 'ไม่ต้องการระบุ': np.nan})\n",
    "\n",
    "# process dates\n",
    "df['year'] = df['dob'].apply(lambda x: int(x.split()[0].split('-')[0]))\n",
    "df['year'] = df['year'].apply(lambda x: x if x < 2500 else x - 543)\n",
    "df['month'] = df['dob'].apply(lambda x: int(x.split()[0].split('-')[1]))\n",
    "df['day'] = df['dob'].apply(lambda x: int(x.split()[0].split('-')[2]))\n",
    "\n",
    "df['dob'] = pd.to_datetime(df[['year','month','day']])\n",
    "df['age'] = df['year'].apply(lambda x: datetime.now().year - x if x < 2010 else np.nan)\n",
    "df['age_group'] = pd.cut(df['age'], bins=[0,28,32,36,99], right=False, labels=['Below 28','28 - 31', '32 - 35','36+'])\n",
    "\n",
    "df.drop(['year','month','day'], axis=1, inplace=True)\n",
    "df.head()"
   ]
  },
  {
   "cell_type": "markdown",
   "metadata": {
    "id": "rRV3x7kq37Aj"
   },
   "source": [
    "# EDA\n",
    "\n"
   ]
  },
  {
   "cell_type": "code",
   "execution_count": null,
   "metadata": {
    "id": "CUTr-oik3fE2"
   },
   "outputs": [],
   "source": [
    "intr_scale = ['ไม่สนใจอย่างมากที่สุด', 'ไม่สนใจอย่างมาก', 'ไม่สนใจ', 'เฉยๆ', 'สนใจ', 'สนใจอย่างมาก', 'สนใจอย่างมากที่สุด']\n",
    "cons_scale = ['แทบไม่ได้บริโภคเลย', 'หลายเดือนครั้ง', 'เดือนละครั้ง', 'เดือนละ 2-3 ครั้ง', 'อาทิตย์ละครั้ง', 'แทบทุกวัน']"
   ]
  },
  {
   "cell_type": "code",
   "execution_count": null,
   "metadata": {
    "colab": {
     "base_uri": "https://localhost:8080/",
     "height": 445
    },
    "id": "1dA6kPyNvJVG",
    "outputId": "777f7f08-33b4-4969-cf3b-e4603384e8a1"
   },
   "outputs": [],
   "source": [
    "df.head()"
   ]
  },
  {
   "cell_type": "markdown",
   "metadata": {
    "id": "7YQRL14YQ6xa"
   },
   "source": [
    "## Check & Drop NA"
   ]
  },
  {
   "cell_type": "code",
   "execution_count": null,
   "metadata": {
    "colab": {
     "base_uri": "https://localhost:8080/",
     "height": 284
    },
    "id": "gSN8VXD1Qf_k",
    "outputId": "fe01230d-0b6c-44f7-df3d-f9de5d8682e4"
   },
   "outputs": [],
   "source": [
    "df[df.isna().any(axis=1)]"
   ]
  },
  {
   "cell_type": "code",
   "execution_count": null,
   "metadata": {
    "id": "urxuC0LDRGxQ"
   },
   "outputs": [],
   "source": [
    "df.dropna(inplace=True)\n",
    "df['age'] = df['age'].astype(int)"
   ]
  },
  {
   "cell_type": "markdown",
   "metadata": {
    "id": "AUjmuVByCWRQ"
   },
   "source": [
    "## Demographics"
   ]
  },
  {
   "cell_type": "code",
   "execution_count": null,
   "metadata": {
    "colab": {
     "base_uri": "https://localhost:8080/",
     "height": 293
    },
    "id": "PxoDZqUzCX8C",
    "outputId": "dd217b40-95d2-4674-ce6d-a5bcc663c362"
   },
   "outputs": [],
   "source": [
    "f, axes = plt.subplots(1,3, figsize=(14,4), tight_layout=True)\n",
    "\n",
    "df['gender'].value_counts(dropna=False).plot(kind='bar', title='Gender', ax=axes[0])\n",
    "df['age'].plot.hist(bins=15, title='Age Distribution', ax=axes[1])\n",
    "df.groupby(['age_group','gender']).size().unstack().fillna(0).plot(kind='barh', xlabel='Age Group', ylabel='Number of Respondents', \n",
    "                                                                   title='Number of Respondents', ax=axes[2]);\n",
    "plt.savefig('demographic.png',dpi=100)\n",
    "plt.show()"
   ]
  },
  {
   "cell_type": "markdown",
   "metadata": {
    "id": "TRTNVVP621qM"
   },
   "source": [
    "## Frequency"
   ]
  },
  {
   "cell_type": "markdown",
   "metadata": {
    "id": "F6Tv5sS83WGZ"
   },
   "source": [
    "### Interests"
   ]
  },
  {
   "cell_type": "code",
   "execution_count": null,
   "metadata": {
    "id": "nQEY7NivL21i"
   },
   "outputs": [],
   "source": [
    "def process_interest(df):\n",
    "    result = df.iloc[:,:30].melt(var_name='question', value_name='answer').groupby(['question','answer'], as_index=False).size().pivot('question','answer','size').fillna(0)\n",
    "    result = result[intr_scale].reindex(df.columns[:30])\n",
    "    result = result.apply(lambda x: x/x.sum(), axis=1)\n",
    "    return result\n",
    "\n",
    "int_overall_df = process_interest(df)\n",
    "int_male_df = process_interest(df[df['gender']=='M'])\n",
    "int_female_df = process_interest(df[df['gender']=='F'])"
   ]
  },
  {
   "cell_type": "code",
   "execution_count": null,
   "metadata": {
    "colab": {
     "base_uri": "https://localhost:8080/",
     "height": 1000
    },
    "id": "mVjPqeHpSPA7",
    "outputId": "86f590d2-5cbf-4cea-d216-4ae78c8c601c"
   },
   "outputs": [],
   "source": [
    "def plot_freq_heatmap(df, cmap, title):\n",
    "    ax = sns.heatmap(df, cmap=cmap, annot=True, linewidth=.1, vmin=0, cbar=False)\n",
    "    ax.set_xticklabels(ax.get_xticklabels(), rotation=65, ha='right')\n",
    "    ax.set_title(title)\n",
    "    return ax\n",
    "\n",
    "plt.subplots(1,3, figsize=(16,14), tight_layout=True)\n",
    "\n",
    "plt.subplot(1,3,1)\n",
    "plot_freq_heatmap(int_overall_df, 'Purples', 'Interests - Overall')\n",
    "\n",
    "plt.subplot(1,3,2)\n",
    "ax = plot_freq_heatmap(int_male_df, 'Blues', 'Interests - Male')\n",
    "ax.set_yticks([])\n",
    "\n",
    "plt.subplot(1,3,3)\n",
    "ax = plot_freq_heatmap(int_female_df, 'Reds', 'Interests - Female')\n",
    "ax.set_yticks([])\n",
    "\n",
    "plt.savefig('interest_freq.png', dpi=100)\n",
    "plt.show()"
   ]
  },
  {
   "cell_type": "markdown",
   "metadata": {
    "id": "E7tYCd-nyHB5"
   },
   "source": [
    "จากการดูด้วยตาเบื้องต้น\n",
    "- ความสนใจในเหล้าเบียร์, การเล่นเกมส์ ของผู้ชายสูงกว่าผู้หญิงอย่างชัดเจน\n",
    "- ความสนใจเรื่องแต่งหน้า ของผู้หญิงสูงกว่าผู้ชายอย่างชัดเจน\n",
    "- ส่วนใหญ่ให้ความสนใจในอาหารญี่ปุ่น อาหารไทย อาหารอีสาน ชาบู ปิ้งย่าง การท่องเที่ยว การดูซีรีส์ ดูหนัง Youtube Netflix\n",
    "\n",
    "**ข้อสังเกต** อาจจะมี bias ค่อนไปทางบวกหลายเรื่อง future work น่าจะลอง handle เรื่อง bias โดยการคำนวณพวก global bias \n"
   ]
  },
  {
   "cell_type": "markdown",
   "metadata": {
    "id": "STDjMitG4UXX"
   },
   "source": [
    "### Consumptions"
   ]
  },
  {
   "cell_type": "code",
   "execution_count": null,
   "metadata": {
    "id": "737pJpAB4Tv0"
   },
   "outputs": [],
   "source": [
    "def process_consumption(df):\n",
    "    result = df.iloc[:,30:60].melt(var_name='question', value_name='answer').groupby(['question','answer'], as_index=False).size().pivot('question','answer','size').fillna(0)\n",
    "    result = result[cons_scale].reindex(df.columns[30:60])\n",
    "    result = result.apply(lambda x: x/x.sum(), axis=1)\n",
    "    return result\n",
    "\n",
    "con_overall_df = process_consumption(df)\n",
    "con_male_df = process_consumption(df[df['gender']=='M'])\n",
    "con_female_df = process_consumption(df[df['gender']=='F'])"
   ]
  },
  {
   "cell_type": "code",
   "execution_count": null,
   "metadata": {
    "colab": {
     "base_uri": "https://localhost:8080/",
     "height": 1000
    },
    "id": "mBVntDg_4pTL",
    "outputId": "39337b8a-7c4a-4a4b-f340-7a049c2cd4df"
   },
   "outputs": [],
   "source": [
    "plt.subplots(1,3, figsize=(16,14), tight_layout=True)\n",
    "\n",
    "plt.subplot(1,3,1)\n",
    "plot_freq_heatmap(con_overall_df, 'Purples', 'Consumptions - Overall')\n",
    "\n",
    "plt.subplot(1,3,2)\n",
    "ax = plot_freq_heatmap(con_male_df, 'Blues', 'Consumptions - Male')\n",
    "ax.set_yticks([])\n",
    "\n",
    "plt.subplot(1,3,3)\n",
    "ax = plot_freq_heatmap(con_female_df, 'Reds', 'Consumptions - Female')\n",
    "ax.set_yticks([])\n",
    "\n",
    "plt.savefig('consumption_freq.png',dpi=100)\n",
    "plt.show()"
   ]
  },
  {
   "cell_type": "markdown",
   "metadata": {
    "id": "HhNvh0iDzuk6"
   },
   "source": [
    "\n",
    "- การบริโภคสินค้าแต่งหน้า, สกินแคร์ ผู้ชายแทบไม่ซื้อเลย\n",
    "- การเล่นเกม, content เกี่ยวกับเกม ผู้ชายบริโภคสูงกว่าผู้หญิงอย่างชัดเจน ผู้หญิงกลุ่มใหญ่บอกว่าไม่ได้เล่นเลย (แต่รองลงมาเป็นกลุ่มที่ได้เล่นบ่อยมาก)\n",
    "- ได้ดู youtube บ่อยมากเป็นส่วนใหญ่"
   ]
  },
  {
   "cell_type": "markdown",
   "metadata": {
    "id": "1hx7Fkjc12R2"
   },
   "source": [
    "## Descriptive & Distributions"
   ]
  },
  {
   "cell_type": "markdown",
   "metadata": {
    "id": "3YzVN8MKQzbL"
   },
   "source": [
    "### Encode responses"
   ]
  },
  {
   "cell_type": "code",
   "execution_count": null,
   "metadata": {
    "colab": {
     "base_uri": "https://localhost:8080/"
    },
    "id": "13mgTRIDD4ii",
    "outputId": "107acecf-ebc3-4b8d-ba10-53243995d922"
   },
   "outputs": [],
   "source": [
    "intr_questions = list(df.columns[:30])\n",
    "cons_questions = list(df.columns[30:60])\n",
    "\n",
    "intr_mapper = { v:i for i,v in enumerate(intr_scale,1) }\n",
    "cons_mapper = { v:i for i,v in enumerate(cons_scale,1) }\n",
    "print(intr_mapper, cons_mapper, sep='\\n')"
   ]
  },
  {
   "cell_type": "code",
   "execution_count": null,
   "metadata": {
    "colab": {
     "base_uri": "https://localhost:8080/",
     "height": 222
    },
    "id": "gioDo2JvKjsD",
    "outputId": "1ae71395-dda9-4ee5-f5e8-484c421c7d5c"
   },
   "outputs": [],
   "source": [
    "score_df = df[list(df.columns[:60]) + ['gender','age_group']].copy()\n",
    "\n",
    "for col in score_df.columns[:30]:\n",
    "    score_df[col] = score_df[col].map(intr_mapper).astype(int)\n",
    "\n",
    "for col in score_df.columns[30:60]:\n",
    "    score_df[col] = score_df[col].map(cons_mapper).astype(int)\n",
    "\n",
    "score_df = score_df.melt(id_vars=['gender','age_group'], var_name='question', value_name='score')\n",
    "print(score_df.shape)\n",
    "score_df.head()"
   ]
  },
  {
   "cell_type": "code",
   "execution_count": null,
   "metadata": {
    "id": "jJHvFj7_FfNk"
   },
   "outputs": [],
   "source": [
    "intr_score_df = score_df[score_df['question'].isin(intr_questions)]\n",
    "cons_score_df = score_df[score_df['question'].isin(cons_questions)]"
   ]
  },
  {
   "cell_type": "markdown",
   "metadata": {
    "id": "sgf8bkahQHVX"
   },
   "source": [
    "### Descriptive"
   ]
  },
  {
   "cell_type": "code",
   "execution_count": null,
   "metadata": {
    "colab": {
     "base_uri": "https://localhost:8080/",
     "height": 1000
    },
    "id": "3g2Bv48e6il9",
    "outputId": "dbc745e8-becf-45b0-95e6-7ac1739dac0d"
   },
   "outputs": [],
   "source": [
    "with pd.option_context('display.max_rows', None):\n",
    "    display(score_df.groupby(['question','gender'])['score'].agg([len, np.mean, np.std, np.median, min, max]).reindex( \n",
    "        pd.MultiIndex.from_product([df.columns[:60],['F','M']], names=['Question', 'Gender']),\n",
    "        fill_value=0\n",
    "    ))"
   ]
  },
  {
   "cell_type": "markdown",
   "metadata": {
    "id": "7zFoBSHXQNS1"
   },
   "source": [
    "### Side-by-Side Distributions\n",
    "\n",
    "Interest vs Consumption"
   ]
  },
  {
   "cell_type": "code",
   "execution_count": null,
   "metadata": {
    "colab": {
     "base_uri": "https://localhost:8080/",
     "height": 1000
    },
    "id": "4Tumi0XKF9_V",
    "outputId": "46c88d2a-133c-4ec9-eeab-35bbb1fd9add"
   },
   "outputs": [],
   "source": [
    "fig, axes = plt.subplots(1,2, figsize=(15,17), tight_layout=True)\n",
    "\n",
    "ax = axes[0]\n",
    "ax.axvline(x=4, color='black',alpha=1, linestyle='--')\n",
    "ax = sns.boxplot(x='score',y='question', hue='gender',data=intr_score_df, ax=ax,palette=\"Pastel1\")\n",
    "\n",
    "ax = axes[1]\n",
    "ax.axvline(x=3.5, color='black',alpha=1, linestyle='--')\n",
    "ax = sns.boxplot(x='score',y='question', hue='gender',data=cons_score_df, ax=ax,palette=\"Pastel1\")\n",
    "ax.yaxis.tick_right()\n",
    "ax.legend().set_visible(False)\n",
    "plt.savefig('boxplot.png',dpi=100)\n",
    "plt.show()"
   ]
  },
  {
   "cell_type": "markdown",
   "metadata": {
    "id": "VEtPBb-NUqjH"
   },
   "source": [
    "- ความสนใจในอาหารจีนพอมี แต่การได้บริโภคนั้นน้อย อาจจะเป็นเพราะไม่ค่อยมีร้านให้บริโภคมากเท่าอาหารไทย หรืออาหารญี่ปุ่น\n",
    "- ความสนใจในบุฟเฟ่ต์ของผู้หญิงมี spread กว้างแต่เอาเข้าจริงการบริโภคก็ไม่ได้มากนัก\n",
    "- การเล่นเกมถึงแม้ความสนใจของผู้หญิงจะอยู่กลาง ๆ แต่มีส่วนหนึ่งได้เล่นค่อนข้างบ่อย อาจจะเป็นเกมลักษณะ casual ที่เล่นฆ่าเวลาหรือไม่\n",
    "- เนื่องจากเป็นนักศึกษาปริญญาโทสาขา BADS ความสนใจและการได้บริโภคของการอ่านหนังสือ บทความออนไลน์ e-Learning จึงค่อนไปทางบวก (as expected)"
   ]
  },
  {
   "cell_type": "markdown",
   "metadata": {
    "id": "8u6IBhHkSj4H"
   },
   "source": [
    "## Correlations"
   ]
  },
  {
   "cell_type": "code",
   "execution_count": null,
   "metadata": {
    "id": "hF795ll0SGAz"
   },
   "outputs": [],
   "source": [
    "score_df = df[list(df.columns[:60]) + ['gender','age']].copy()\n",
    "\n",
    "for col in score_df.columns[:30]:\n",
    "    score_df[col] = score_df[col].map(intr_mapper).astype(int)\n",
    "\n",
    "for col in score_df.columns[30:60]:\n",
    "    score_df[col] = score_df[col].map(cons_mapper).astype(int)\n"
   ]
  },
  {
   "cell_type": "code",
   "execution_count": null,
   "metadata": {
    "id": "0ehjtOvAbJhr"
   },
   "outputs": [],
   "source": [
    "intr_df = score_df[list(score_df.columns[:30]) + ['gender','age']]\n",
    "cons_df = score_df[list(score_df.columns[30:60]) + ['gender','age']]"
   ]
  },
  {
   "cell_type": "markdown",
   "metadata": {
    "id": "9PHBa4fBqCrR"
   },
   "source": [
    "### Interest Correlation (Overall)"
   ]
  },
  {
   "cell_type": "code",
   "execution_count": null,
   "metadata": {
    "id": "5DWZ3hLv1ebG"
   },
   "outputs": [],
   "source": [
    "temp = intr_df.corr().reset_index().melt('index')\n",
    "# remove self-corr\n",
    "temp = temp[(temp['value']!=1)&(temp['value']!=-1)]\n",
    "# remove duplicate pairs\n",
    "temp = temp.groupby('value', as_index=False).first()\n",
    "temp.columns = ['Correlation','Interest 1', 'Interest 2']"
   ]
  },
  {
   "cell_type": "markdown",
   "metadata": {
    "id": "XtmSKHYGr08w"
   },
   "source": [
    "#### Top Positive Correlations (Overall)"
   ]
  },
  {
   "cell_type": "code",
   "execution_count": null,
   "metadata": {
    "colab": {
     "base_uri": "https://localhost:8080/",
     "height": 731
    },
    "id": "3MuOsiFdywag",
    "outputId": "76696672-5953-4455-8934-3fb1159edd45"
   },
   "outputs": [],
   "source": [
    "temp[temp['Correlation']>=0.5].sort_values('Correlation', ascending=False)"
   ]
  },
  {
   "cell_type": "markdown",
   "metadata": {
    "id": "pfErGlQ6qW3J"
   },
   "source": [
    "- สนใจปิ้งย่างจะสนใจบุฟเฟ่ต์ด้วย\n",
    "- สนใจ content review ร้านอาหาร จะสนใจ อาหารญี่ปุ่น"
   ]
  },
  {
   "cell_type": "markdown",
   "metadata": {
    "id": "RmF39RkRzLzU"
   },
   "source": [
    "#### Top Negative Correlations (Overall)"
   ]
  },
  {
   "cell_type": "code",
   "execution_count": null,
   "metadata": {
    "colab": {
     "base_uri": "https://localhost:8080/",
     "height": 173
    },
    "id": "yKihNvJVyuyh",
    "outputId": "1d06b316-2abb-4833-ed79-064ce525d343"
   },
   "outputs": [],
   "source": [
    "temp[temp['Correlation']<=-0.25].sort_values('Correlation')"
   ]
  },
  {
   "cell_type": "markdown",
   "metadata": {
    "id": "hXtyBhg-qAyM"
   },
   "source": [
    "- ความสนใจการเล่นเกม สัมพันธ์เชิงลบ กับความสนใจแต่งหน้า -> คาแรคเตอร์ ชาย หญิง\n",
    "- ความสนใจด้านชาบู กับ บุฟเฟ่ต์ เป็นที่นิยามในกลุ่มคนอายุน้อยมากกว่า"
   ]
  },
  {
   "cell_type": "markdown",
   "metadata": {
    "id": "oCSNN-Sh0HOu"
   },
   "source": [
    "#### Correlation Matrix (Overall)"
   ]
  },
  {
   "cell_type": "code",
   "execution_count": null,
   "metadata": {
    "colab": {
     "base_uri": "https://localhost:8080/",
     "height": 1000
    },
    "id": "ohUtmmjMhSpn",
    "outputId": "fe1a3a67-265a-49f3-e4e9-9d395e35e907"
   },
   "outputs": [],
   "source": [
    "with sns.plotting_context(\"notebook\", font_scale=.95):\n",
    "    plt.figure(figsize=(20,15))\n",
    "    ax = sns.heatmap(intr_df.corr(), cmap='bwr', vmin=-.9, vmax=.9, annot=True, fmt='.2f', cbar_kws={\"shrink\":.70})\n",
    "    ax.xaxis.set_ticks_position('top')\n",
    "    ax.set_xticklabels(ax.get_xticklabels(), rotation=50, fontsize=11, ha='left')\n",
    "    ax.set_yticklabels(ax.get_yticklabels(), fontsize=11)\n",
    "    plt.title('Interest Correlation - Overall')\n",
    "    plt.savefig('interest_corr_overall.png', dpi=100)\n",
    "    plt.show()"
   ]
  },
  {
   "cell_type": "markdown",
   "metadata": {
    "id": "i28nOg8FqR5t"
   },
   "source": [
    "### Interest Correlation (Female)"
   ]
  },
  {
   "cell_type": "code",
   "execution_count": null,
   "metadata": {
    "id": "Z9bK68hH1NJp"
   },
   "outputs": [],
   "source": [
    "temp = intr_df[intr_df['gender']=='F'].corr().reset_index().melt('index')\n",
    "# remove self-corr\n",
    "temp = temp[(temp['value']!=1)&(temp['value']!=-1)]\n",
    "# remove duplicate pairs\n",
    "temp = temp.groupby('value', as_index=False).first()\n",
    "temp.columns = ['Correlation','Interest 1', 'Interest 2']"
   ]
  },
  {
   "cell_type": "markdown",
   "metadata": {
    "id": "wfW25bFw0k9w"
   },
   "source": [
    "#### Top Positive Correlations (Female)"
   ]
  },
  {
   "cell_type": "code",
   "execution_count": null,
   "metadata": {
    "colab": {
     "base_uri": "https://localhost:8080/",
     "height": 1000
    },
    "id": "QBiLTMqu0lGp",
    "outputId": "9543f4b7-68c1-4223-f2a1-6ac2cc25b4b3"
   },
   "outputs": [],
   "source": [
    "temp[temp['Correlation']>=0.5].sort_values('Correlation', ascending=False)"
   ]
  },
  {
   "cell_type": "markdown",
   "metadata": {
    "id": "ouu8UGMdoxCd"
   },
   "source": [
    "**ผู้หญิง**\n",
    "- (+) สนใจบำรุ่งผิว <-> สนใจแต่งหน้า\n",
    "- (+) content - review ร้านอาหาร กับ อาหารญี่ปุ่น ชาบู <- content ที่ดูอาจจะเป็น content อาหารญี่ปุ่น  \n",
    "not done -> TODO"
   ]
  },
  {
   "cell_type": "markdown",
   "metadata": {
    "id": "dCBb2MOx0lOn"
   },
   "source": [
    "#### Top Negative Correlations (Female)"
   ]
  },
  {
   "cell_type": "code",
   "execution_count": null,
   "metadata": {
    "colab": {
     "base_uri": "https://localhost:8080/",
     "height": 390
    },
    "id": "Y63na3t70lXL",
    "outputId": "a52816a2-e3e2-4bda-98ab-018062589c59"
   },
   "outputs": [],
   "source": [
    "temp[temp['Correlation']<=-0.30].sort_values('Correlation')"
   ]
  },
  {
   "cell_type": "markdown",
   "metadata": {
    "id": "CbG4ZltB0Usw"
   },
   "source": [
    "#### Corelation Matrix (Female)"
   ]
  },
  {
   "cell_type": "code",
   "execution_count": null,
   "metadata": {
    "colab": {
     "base_uri": "https://localhost:8080/",
     "height": 1000
    },
    "id": "xyAb56otpwgu",
    "outputId": "5c03e6ff-4f1f-4c98-a23b-5691657ecc1b"
   },
   "outputs": [],
   "source": [
    "with sns.plotting_context(\"notebook\", font_scale=.95):\n",
    "    plt.figure(figsize=(20,15))\n",
    "    ax = sns.heatmap(intr_df[intr_df['gender']=='F'].corr(), cmap='bwr', vmin=-.9, vmax=.9, annot=True, fmt='.2f', cbar_kws={\"shrink\":.70})\n",
    "    ax.xaxis.set_ticks_position('top')\n",
    "    ax.set_xticklabels(ax.get_xticklabels(), rotation=50, fontsize=11, ha='left')\n",
    "    ax.set_yticklabels(ax.get_yticklabels(), fontsize=11)\n",
    "    plt.title('Interest Correlation - Female')\n",
    "    plt.savefig('interest_corr_female.png', dpi=100)\n",
    "    plt.show()"
   ]
  },
  {
   "cell_type": "markdown",
   "metadata": {
    "id": "R7DNiZ2OqVAT"
   },
   "source": [
    "### Interest Correlation (Male)"
   ]
  },
  {
   "cell_type": "code",
   "execution_count": null,
   "metadata": {
    "id": "xakQsSjo4wVe"
   },
   "outputs": [],
   "source": [
    "temp = intr_df[intr_df['gender']=='M'].corr().reset_index().melt('index')\n",
    "# remove self-corr\n",
    "temp = temp[(temp['value']!=1)&(temp['value']!=-1)]\n",
    "# remove duplicate pairs\n",
    "temp = temp.groupby('value', as_index=False).first()\n",
    "temp.columns = ['Correlation','Interest 1', 'Interest 2']"
   ]
  },
  {
   "cell_type": "markdown",
   "metadata": {
    "id": "PcPna1IW4vqc"
   },
   "source": [
    "#### Top Positive Correlations (Male)"
   ]
  },
  {
   "cell_type": "code",
   "execution_count": null,
   "metadata": {
    "colab": {
     "base_uri": "https://localhost:8080/",
     "height": 855
    },
    "id": "4-V79nK24vhB",
    "outputId": "133708a7-9212-4e30-aa27-35c47815237b"
   },
   "outputs": [],
   "source": [
    "temp[temp['Correlation']>=0.5].sort_values('Correlation', ascending=False)"
   ]
  },
  {
   "cell_type": "markdown",
   "metadata": {
    "id": "1XAIzcvC4vZ4"
   },
   "source": [
    "#### Top Negative Correlations (Male)"
   ]
  },
  {
   "cell_type": "code",
   "execution_count": null,
   "metadata": {
    "colab": {
     "base_uri": "https://localhost:8080/",
     "height": 328
    },
    "id": "ULU5Bmgy48um",
    "outputId": "684658aa-4947-4f28-dea3-b9d6d8324acd"
   },
   "outputs": [],
   "source": [
    "temp[temp['Correlation']<=-0.30].sort_values('Correlation')"
   ]
  },
  {
   "cell_type": "markdown",
   "metadata": {
    "id": "LtqZxTwa5gia"
   },
   "source": [
    "- ผู้ชาย อายุน้อยสนใจ บัฟเฟต์, ชาบูชาบู, ดูซีรีส์, content การเมือง กลับกันถ้าอายุเยอะ\n",
    "- ผู้ชาย สนใจการเล่นเกม จะไม่สนใจอาหารอีสาน (55555 อะไรเนี่ย)\n",
    "- ผู้ชาย สนใจเหล้าเบียร์ จะสวนทางกับ สนใจอ่านหนังสือ และอ่านบทความออนไลน์\n"
   ]
  },
  {
   "cell_type": "markdown",
   "metadata": {
    "id": "1Xk6NfpQ49PS"
   },
   "source": [
    "#### Correlation Matrix (Male)"
   ]
  },
  {
   "cell_type": "code",
   "execution_count": null,
   "metadata": {
    "colab": {
     "base_uri": "https://localhost:8080/",
     "height": 1000
    },
    "id": "pvGITE3WpYrF",
    "outputId": "a79738b9-3db2-4021-d3b5-a9a2d592b641"
   },
   "outputs": [],
   "source": [
    "with sns.plotting_context(\"notebook\", font_scale=.95):\n",
    "    plt.figure(figsize=(20,15))\n",
    "    ax = sns.heatmap(intr_df[intr_df['gender']=='M'].corr(), cmap='bwr', vmin=-.9, vmax=.9, annot=True, fmt='.2f', cbar_kws={\"shrink\":.70})\n",
    "    ax.xaxis.set_ticks_position('top')\n",
    "    ax.set_xticklabels(ax.get_xticklabels(), rotation=50, fontsize=11, ha='left')\n",
    "    ax.set_yticklabels(ax.get_yticklabels(), fontsize=11)\n",
    "    plt.title('Interest Correlation - Male')\n",
    "    plt.savefig('interest_corr_male.png', dpi=100)\n",
    "    plt.show()"
   ]
  },
  {
   "cell_type": "markdown",
   "metadata": {
    "id": "cSig20Dwr0_M"
   },
   "source": [
    "- ชาบู บุฟเฟ่ต์ ปิ้งย่าง ชาย อายุน้อย"
   ]
  },
  {
   "cell_type": "markdown",
   "metadata": {
    "id": "szUfWwmp1X56"
   },
   "source": [
    "### Consumption Correlation"
   ]
  },
  {
   "cell_type": "code",
   "execution_count": null,
   "metadata": {
    "id": "qrb1koT1reJ7"
   },
   "outputs": [],
   "source": [
    "temp = cons_df.corr().reset_index().melt('index')\n",
    "# remove self-corr\n",
    "temp = temp[(temp['value']!=1)&(temp['value']!=-1)]\n",
    "# remove duplicate pairs\n",
    "temp = temp.groupby('value', as_index=False).first()\n",
    "temp.columns = ['Correlation','Consumption 1', 'Consumption 2']"
   ]
  },
  {
   "cell_type": "markdown",
   "metadata": {
    "id": "stH3MtMU8tOz"
   },
   "source": [
    "#### Top Positive Consumption Correlation"
   ]
  },
  {
   "cell_type": "code",
   "execution_count": null,
   "metadata": {
    "colab": {
     "base_uri": "https://localhost:8080/",
     "height": 421
    },
    "id": "27zpk9JX8mZG",
    "outputId": "be6fa8b1-708d-4481-d85a-2c78a1d55604"
   },
   "outputs": [],
   "source": [
    "temp[temp['Correlation']>=0.5].sort_values('Correlation', ascending=False)"
   ]
  },
  {
   "cell_type": "markdown",
   "metadata": {
    "id": "Ya8ktcNH84xI"
   },
   "source": [
    "#### Top Negative Consumption Correlation"
   ]
  },
  {
   "cell_type": "code",
   "execution_count": null,
   "metadata": {
    "colab": {
     "base_uri": "https://localhost:8080/",
     "height": 80
    },
    "id": "PtFDf3u184_e",
    "outputId": "7749ac53-ffec-4c5e-cc9b-348b033c50ef"
   },
   "outputs": [],
   "source": [
    "temp[temp['Correlation']<=-0.30].sort_values('Correlation')"
   ]
  },
  {
   "cell_type": "markdown",
   "metadata": {
    "id": "yA8Y-V759VMk"
   },
   "source": [
    "- บริโภคบุฟเฟต์เยอะ แต่อ่านหนังสือน้อย 5555 "
   ]
  },
  {
   "cell_type": "markdown",
   "metadata": {
    "id": "xqoCTwPFrZJ4"
   },
   "source": [
    "#### Correlation Matrix"
   ]
  },
  {
   "cell_type": "code",
   "execution_count": null,
   "metadata": {
    "colab": {
     "base_uri": "https://localhost:8080/",
     "height": 1000
    },
    "id": "IzchfhGAq9Q_",
    "outputId": "03c2bc5f-5585-4bcc-8718-8c8d1f21764c",
    "scrolled": true
   },
   "outputs": [],
   "source": [
    "with sns.plotting_context(\"notebook\", font_scale=.95):\n",
    "    plt.figure(figsize=(20,15))\n",
    "    ax = sns.heatmap(cons_df.corr(), cmap='bwr', vmin=-.9, vmax=.9, annot=True, fmt='.2f', cbar_kws={\"shrink\":.70})\n",
    "    ax.xaxis.set_ticks_position('top')\n",
    "    ax.set_xticklabels(ax.get_xticklabels(), rotation=50, fontsize=11, ha='left')\n",
    "    ax.set_yticklabels(ax.get_yticklabels(), fontsize=11)\n",
    "    plt.title('Consumption Correlation - Overall')\n",
    "    plt.savefig('consumption_corr_overall.png', dpi=100)\n",
    "    plt.show()"
   ]
  },
  {
   "cell_type": "code",
   "execution_count": null,
   "metadata": {},
   "outputs": [],
   "source": []
  },
  {
   "cell_type": "code",
   "execution_count": null,
   "metadata": {
    "scrolled": true
   },
   "outputs": [],
   "source": [
    "temp = intr_df.corrwith(cons_df.set_axis( intr_df.columns, axis='columns', inplace=False)).reset_index().melt('index')\n",
    "head = list(cons_df.columns)\n",
    "head.remove('gender')\n",
    "temp['variable'] = pd.DataFrame(head)\n",
    "temp.columns = ['Interest', 'Consumption','Correlation']\n",
    "temp_desc = temp.sort_values('Correlation', ascending=False)\n",
    "temp_desc"
   ]
  },
  {
   "cell_type": "code",
   "execution_count": null,
   "metadata": {},
   "outputs": [],
   "source": [
    "temp = temp[temp['Correlation']<=0.50].sort_values('Correlation', ascending=True)\n",
    "temp"
   ]
  },
  {
   "cell_type": "code",
   "execution_count": null,
   "metadata": {},
   "outputs": [],
   "source": [
    "ixc = temp_desc.pivot(\"Consumption\", \"Interest\", \"Correlation\")\n",
    "plt.figure(figsize=(20,15))\n",
    "ax = sns.heatmap(ixc, cmap='bwr', vmin=-.9, vmax=.9, annot=True, fmt='.2f', cbar_kws={\"shrink\":.70})\n",
    "\n",
    "plt.savefig('InxCo_overall.png',dpi=100)\n",
    "plt.show()"
   ]
  },
  {
   "cell_type": "markdown",
   "metadata": {
    "id": "y4UWi67K5i44"
   },
   "source": [
    "# K-Means (Unsupervised Clustering)"
   ]
  },
  {
   "cell_type": "code",
   "execution_count": null,
   "metadata": {},
   "outputs": [],
   "source": [
    "from sklearn.cluster import KMeans\n",
    "from sklearn.preprocessing import MinMaxScaler\n",
    "from sklearn.metrics import silhouette_score\n",
    "\n"
   ]
  },
  {
   "cell_type": "code",
   "execution_count": null,
   "metadata": {
    "scrolled": true
   },
   "outputs": [],
   "source": [
    "score_km = df[list(df.columns[:60])].copy()\n",
    "\n",
    "for col in score_km.columns[:30]:\n",
    "    score_km[col] = score_km[col].map(intr_mapper).astype(int)\n",
    "\n",
    "for col in score_km.columns[30:60]:\n",
    "    score_km[col] = score_km[col].map(cons_mapper).astype(int)"
   ]
  },
  {
   "cell_type": "code",
   "execution_count": null,
   "metadata": {
    "scrolled": false
   },
   "outputs": [],
   "source": [
    "sil = []\n",
    "sse = []\n",
    "n = range(2, 15)\n",
    "for i in n:\n",
    "    \n",
    "  kmeans = KMeans(n_clusters = i).fit(score_km)\n",
    "  \n",
    "  sse.append(kmeans.inertia_)\n",
    " \n",
    "  labels = kmeans.labels_\n",
    "  sil.append(silhouette_score(score_km, labels, metric = 'manhattan'))\n",
    " \n",
    "plt.subplot(1, 2, 1)\n",
    "plt.plot(n, sse)\n",
    " \n",
    "plt.subplot(1, 2, 2)\n",
    "plt.plot(n, sil)\n",
    "\n",
    "plt.savefig('K-Mean.png',dpi=100)\n",
    "plt.show()"
   ]
  },
  {
   "cell_type": "code",
   "execution_count": null,
   "metadata": {},
   "outputs": [],
   "source": []
  },
  {
   "cell_type": "code",
   "execution_count": null,
   "metadata": {},
   "outputs": [],
   "source": []
  }
 ],
 "metadata": {
  "colab": {
   "collapsed_sections": [],
   "name": "CRM HW01 - Customer Behaviors.ipynb",
   "provenance": [],
   "toc_visible": true
  },
  "kernelspec": {
   "display_name": "Python 3",
   "language": "python",
   "name": "python3"
  },
  "language_info": {
   "codemirror_mode": {
    "name": "ipython",
    "version": 3
   },
   "file_extension": ".py",
   "mimetype": "text/x-python",
   "name": "python",
   "nbconvert_exporter": "python",
   "pygments_lexer": "ipython3",
   "version": "3.8.7"
  }
 },
 "nbformat": 4,
 "nbformat_minor": 1
}
